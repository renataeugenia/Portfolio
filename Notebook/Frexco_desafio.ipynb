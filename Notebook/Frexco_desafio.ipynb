{
  "nbformat": 4,
  "nbformat_minor": 0,
  "metadata": {
    "colab": {
      "provenance": [],
      "authorship_tag": "ABX9TyNNzuxKsc1b+AqwEyGFcDWl",
      "include_colab_link": true
    },
    "kernelspec": {
      "name": "python3",
      "display_name": "Python 3"
    },
    "language_info": {
      "name": "python"
    }
  },
  "cells": [
    {
      "cell_type": "markdown",
      "metadata": {
        "id": "view-in-github",
        "colab_type": "text"
      },
      "source": [
        "<a href=\"https://colab.research.google.com/github/renataeugenia/Portfolio/blob/main/Notebook/Frexco_desafio.ipynb\" target=\"_parent\"><img src=\"https://colab.research.google.com/assets/colab-badge.svg\" alt=\"Open In Colab\"/></a>"
      ]
    },
    {
      "cell_type": "markdown",
      "source": [
        "# Frexco - Estágio em Data Analitycs - Desafio Tech"
      ],
      "metadata": {
        "id": "f_649158mKkw"
      }
    },
    {
      "cell_type": "markdown",
      "source": [
        "**O desafio é o seguinte:**\n",
        "\n",
        "Previsão de demanda é uma projeção realizada com o intuito de prever o potencial de vendas de um ou mais produtos em um cenário futuro.\n",
        "\n",
        "Com base em dados e informações, numéricas e intencionais, o objetivo da previsão é aproximar ao máximo a perspectiva da realidade. Embora não seja possível determinar as ações do futuro, a estimativa permite guiar a tomada de decisão e elaborar um planejamento mais estratégico, voltado para as possibilidades reais do negócio.\n",
        "\n",
        "Nos diversos setores, a previsão de demanda serve de amparo para nortear e orientar as ações mais importantes.\n",
        "\n",
        "Nós, da Frexco, trabalhamos com produtos perecíveis e muitos deles possuem uma data de validade curta. Acertar na previsão de demanda é essencial para evitarmos o desperdício de alimentos, além de também ser importante garantir que tenhamos o produto disponível no estoque para venda.\n",
        "\n",
        "Tendo isso em mente, **estruture um script no Python que calcule a previsão de demanda para os próximos 5 dias** do item, baseando-se no histórico presente na base de dados em anexo.\n",
        "\n",
        "Obs: O modelo de previsão pode ser o que você julgue ser o melhor, mas **atenção aos detalhes de variação nas vendas**!"
      ],
      "metadata": {
        "id": "OXaTDzeRl7_5"
      }
    },
    {
      "cell_type": "code",
      "execution_count": 82,
      "metadata": {
        "id": "HudkogtLl1xb"
      },
      "outputs": [],
      "source": [
        "import pandas as pd\n",
        "import numpy as np\n",
        "import matplotlib.pyplot as plt\n",
        "%matplotlib inline\n",
        "\n",
        "import seaborn as sns\n",
        "import scipy as sci\n",
        "import statsmodels as stl\n",
        "\n",
        "import warnings\n",
        "warnings.filterwarnings('ignore')"
      ]
    },
    {
      "cell_type": "code",
      "source": [
        "print('versão pandas ->%s' % pd.__version__)\n",
        "print('versão numpy ->%s' % np.__version__)\n",
        "print('versão seaborn ->%s' % sns.__version__)\n",
        "print('versão scipy ->%s' % sci.__version__)\n",
        "print('versão statsmodels ->%s' % stl.__version__)"
      ],
      "metadata": {
        "colab": {
          "base_uri": "https://localhost:8080/"
        },
        "id": "Ldjx2EXLm5o6",
        "outputId": "1c40559f-c087-4068-f9b4-24e6b50d4d07"
      },
      "execution_count": 83,
      "outputs": [
        {
          "output_type": "stream",
          "name": "stdout",
          "text": [
            "versão pandas ->1.3.5\n",
            "versão numpy ->1.21.6\n",
            "versão seaborn ->0.11.2\n",
            "versão scipy ->1.7.3\n",
            "versão statsmodels ->0.12.2\n"
          ]
        }
      ]
    },
    {
      "cell_type": "code",
      "source": [
        "import statsmodels.api as sm"
      ],
      "metadata": {
        "id": "U_g82y6Un22w"
      },
      "execution_count": 84,
      "outputs": []
    },
    {
      "cell_type": "markdown",
      "source": [
        "Leitura e visualização de dos dados"
      ],
      "metadata": {
        "id": "gR3iQA_EWr6c"
      }
    },
    {
      "cell_type": "code",
      "source": [
        "dados = pd.read_csv('Dados.csv', sep=';')\n",
        "dados.head()"
      ],
      "metadata": {
        "colab": {
          "base_uri": "https://localhost:8080/",
          "height": 206
        },
        "id": "xqWd5hvuo-rb",
        "outputId": "87c68725-5bbb-4119-bda0-adeed7cf2f34"
      },
      "execution_count": 85,
      "outputs": [
        {
          "output_type": "execute_result",
          "data": {
            "text/plain": [
              "         Data   Vendas\n",
              "0   6/12/2022  870.000\n",
              "1   7/12/2022  868.000\n",
              "2   8/12/2022    1.189\n",
              "3   9/12/2022  742.000\n",
              "4  10/12/2022  317.000"
            ],
            "text/html": [
              "\n",
              "  <div id=\"df-4d676153-85d8-47d3-809e-a1ca27f76ed9\">\n",
              "    <div class=\"colab-df-container\">\n",
              "      <div>\n",
              "<style scoped>\n",
              "    .dataframe tbody tr th:only-of-type {\n",
              "        vertical-align: middle;\n",
              "    }\n",
              "\n",
              "    .dataframe tbody tr th {\n",
              "        vertical-align: top;\n",
              "    }\n",
              "\n",
              "    .dataframe thead th {\n",
              "        text-align: right;\n",
              "    }\n",
              "</style>\n",
              "<table border=\"1\" class=\"dataframe\">\n",
              "  <thead>\n",
              "    <tr style=\"text-align: right;\">\n",
              "      <th></th>\n",
              "      <th>Data</th>\n",
              "      <th>Vendas</th>\n",
              "    </tr>\n",
              "  </thead>\n",
              "  <tbody>\n",
              "    <tr>\n",
              "      <th>0</th>\n",
              "      <td>6/12/2022</td>\n",
              "      <td>870.000</td>\n",
              "    </tr>\n",
              "    <tr>\n",
              "      <th>1</th>\n",
              "      <td>7/12/2022</td>\n",
              "      <td>868.000</td>\n",
              "    </tr>\n",
              "    <tr>\n",
              "      <th>2</th>\n",
              "      <td>8/12/2022</td>\n",
              "      <td>1.189</td>\n",
              "    </tr>\n",
              "    <tr>\n",
              "      <th>3</th>\n",
              "      <td>9/12/2022</td>\n",
              "      <td>742.000</td>\n",
              "    </tr>\n",
              "    <tr>\n",
              "      <th>4</th>\n",
              "      <td>10/12/2022</td>\n",
              "      <td>317.000</td>\n",
              "    </tr>\n",
              "  </tbody>\n",
              "</table>\n",
              "</div>\n",
              "      <button class=\"colab-df-convert\" onclick=\"convertToInteractive('df-4d676153-85d8-47d3-809e-a1ca27f76ed9')\"\n",
              "              title=\"Convert this dataframe to an interactive table.\"\n",
              "              style=\"display:none;\">\n",
              "        \n",
              "  <svg xmlns=\"http://www.w3.org/2000/svg\" height=\"24px\"viewBox=\"0 0 24 24\"\n",
              "       width=\"24px\">\n",
              "    <path d=\"M0 0h24v24H0V0z\" fill=\"none\"/>\n",
              "    <path d=\"M18.56 5.44l.94 2.06.94-2.06 2.06-.94-2.06-.94-.94-2.06-.94 2.06-2.06.94zm-11 1L8.5 8.5l.94-2.06 2.06-.94-2.06-.94L8.5 2.5l-.94 2.06-2.06.94zm10 10l.94 2.06.94-2.06 2.06-.94-2.06-.94-.94-2.06-.94 2.06-2.06.94z\"/><path d=\"M17.41 7.96l-1.37-1.37c-.4-.4-.92-.59-1.43-.59-.52 0-1.04.2-1.43.59L10.3 9.45l-7.72 7.72c-.78.78-.78 2.05 0 2.83L4 21.41c.39.39.9.59 1.41.59.51 0 1.02-.2 1.41-.59l7.78-7.78 2.81-2.81c.8-.78.8-2.07 0-2.86zM5.41 20L4 18.59l7.72-7.72 1.47 1.35L5.41 20z\"/>\n",
              "  </svg>\n",
              "      </button>\n",
              "      \n",
              "  <style>\n",
              "    .colab-df-container {\n",
              "      display:flex;\n",
              "      flex-wrap:wrap;\n",
              "      gap: 12px;\n",
              "    }\n",
              "\n",
              "    .colab-df-convert {\n",
              "      background-color: #E8F0FE;\n",
              "      border: none;\n",
              "      border-radius: 50%;\n",
              "      cursor: pointer;\n",
              "      display: none;\n",
              "      fill: #1967D2;\n",
              "      height: 32px;\n",
              "      padding: 0 0 0 0;\n",
              "      width: 32px;\n",
              "    }\n",
              "\n",
              "    .colab-df-convert:hover {\n",
              "      background-color: #E2EBFA;\n",
              "      box-shadow: 0px 1px 2px rgba(60, 64, 67, 0.3), 0px 1px 3px 1px rgba(60, 64, 67, 0.15);\n",
              "      fill: #174EA6;\n",
              "    }\n",
              "\n",
              "    [theme=dark] .colab-df-convert {\n",
              "      background-color: #3B4455;\n",
              "      fill: #D2E3FC;\n",
              "    }\n",
              "\n",
              "    [theme=dark] .colab-df-convert:hover {\n",
              "      background-color: #434B5C;\n",
              "      box-shadow: 0px 1px 3px 1px rgba(0, 0, 0, 0.15);\n",
              "      filter: drop-shadow(0px 1px 2px rgba(0, 0, 0, 0.3));\n",
              "      fill: #FFFFFF;\n",
              "    }\n",
              "  </style>\n",
              "\n",
              "      <script>\n",
              "        const buttonEl =\n",
              "          document.querySelector('#df-4d676153-85d8-47d3-809e-a1ca27f76ed9 button.colab-df-convert');\n",
              "        buttonEl.style.display =\n",
              "          google.colab.kernel.accessAllowed ? 'block' : 'none';\n",
              "\n",
              "        async function convertToInteractive(key) {\n",
              "          const element = document.querySelector('#df-4d676153-85d8-47d3-809e-a1ca27f76ed9');\n",
              "          const dataTable =\n",
              "            await google.colab.kernel.invokeFunction('convertToInteractive',\n",
              "                                                     [key], {});\n",
              "          if (!dataTable) return;\n",
              "\n",
              "          const docLinkHtml = 'Like what you see? Visit the ' +\n",
              "            '<a target=\"_blank\" href=https://colab.research.google.com/notebooks/data_table.ipynb>data table notebook</a>'\n",
              "            + ' to learn more about interactive tables.';\n",
              "          element.innerHTML = '';\n",
              "          dataTable['output_type'] = 'display_data';\n",
              "          await google.colab.output.renderOutput(dataTable, element);\n",
              "          const docLink = document.createElement('div');\n",
              "          docLink.innerHTML = docLinkHtml;\n",
              "          element.appendChild(docLink);\n",
              "        }\n",
              "      </script>\n",
              "    </div>\n",
              "  </div>\n",
              "  "
            ]
          },
          "metadata": {},
          "execution_count": 85
        }
      ]
    },
    {
      "cell_type": "code",
      "source": [
        "dados.describe()"
      ],
      "metadata": {
        "colab": {
          "base_uri": "https://localhost:8080/",
          "height": 300
        },
        "id": "waNi0MZRDfNV",
        "outputId": "cd593440-0e41-4a23-af5c-f35dc4869642"
      },
      "execution_count": 86,
      "outputs": [
        {
          "output_type": "execute_result",
          "data": {
            "text/plain": [
              "           Vendas\n",
              "count   46.000000\n",
              "mean   374.685478\n",
              "std    358.222241\n",
              "min      1.009000\n",
              "25%      1.375750\n",
              "50%    303.000000\n",
              "75%    734.500000\n",
              "max    945.000000"
            ],
            "text/html": [
              "\n",
              "  <div id=\"df-10b2b696-c838-4e84-876d-07b8aa79299d\">\n",
              "    <div class=\"colab-df-container\">\n",
              "      <div>\n",
              "<style scoped>\n",
              "    .dataframe tbody tr th:only-of-type {\n",
              "        vertical-align: middle;\n",
              "    }\n",
              "\n",
              "    .dataframe tbody tr th {\n",
              "        vertical-align: top;\n",
              "    }\n",
              "\n",
              "    .dataframe thead th {\n",
              "        text-align: right;\n",
              "    }\n",
              "</style>\n",
              "<table border=\"1\" class=\"dataframe\">\n",
              "  <thead>\n",
              "    <tr style=\"text-align: right;\">\n",
              "      <th></th>\n",
              "      <th>Vendas</th>\n",
              "    </tr>\n",
              "  </thead>\n",
              "  <tbody>\n",
              "    <tr>\n",
              "      <th>count</th>\n",
              "      <td>46.000000</td>\n",
              "    </tr>\n",
              "    <tr>\n",
              "      <th>mean</th>\n",
              "      <td>374.685478</td>\n",
              "    </tr>\n",
              "    <tr>\n",
              "      <th>std</th>\n",
              "      <td>358.222241</td>\n",
              "    </tr>\n",
              "    <tr>\n",
              "      <th>min</th>\n",
              "      <td>1.009000</td>\n",
              "    </tr>\n",
              "    <tr>\n",
              "      <th>25%</th>\n",
              "      <td>1.375750</td>\n",
              "    </tr>\n",
              "    <tr>\n",
              "      <th>50%</th>\n",
              "      <td>303.000000</td>\n",
              "    </tr>\n",
              "    <tr>\n",
              "      <th>75%</th>\n",
              "      <td>734.500000</td>\n",
              "    </tr>\n",
              "    <tr>\n",
              "      <th>max</th>\n",
              "      <td>945.000000</td>\n",
              "    </tr>\n",
              "  </tbody>\n",
              "</table>\n",
              "</div>\n",
              "      <button class=\"colab-df-convert\" onclick=\"convertToInteractive('df-10b2b696-c838-4e84-876d-07b8aa79299d')\"\n",
              "              title=\"Convert this dataframe to an interactive table.\"\n",
              "              style=\"display:none;\">\n",
              "        \n",
              "  <svg xmlns=\"http://www.w3.org/2000/svg\" height=\"24px\"viewBox=\"0 0 24 24\"\n",
              "       width=\"24px\">\n",
              "    <path d=\"M0 0h24v24H0V0z\" fill=\"none\"/>\n",
              "    <path d=\"M18.56 5.44l.94 2.06.94-2.06 2.06-.94-2.06-.94-.94-2.06-.94 2.06-2.06.94zm-11 1L8.5 8.5l.94-2.06 2.06-.94-2.06-.94L8.5 2.5l-.94 2.06-2.06.94zm10 10l.94 2.06.94-2.06 2.06-.94-2.06-.94-.94-2.06-.94 2.06-2.06.94z\"/><path d=\"M17.41 7.96l-1.37-1.37c-.4-.4-.92-.59-1.43-.59-.52 0-1.04.2-1.43.59L10.3 9.45l-7.72 7.72c-.78.78-.78 2.05 0 2.83L4 21.41c.39.39.9.59 1.41.59.51 0 1.02-.2 1.41-.59l7.78-7.78 2.81-2.81c.8-.78.8-2.07 0-2.86zM5.41 20L4 18.59l7.72-7.72 1.47 1.35L5.41 20z\"/>\n",
              "  </svg>\n",
              "      </button>\n",
              "      \n",
              "  <style>\n",
              "    .colab-df-container {\n",
              "      display:flex;\n",
              "      flex-wrap:wrap;\n",
              "      gap: 12px;\n",
              "    }\n",
              "\n",
              "    .colab-df-convert {\n",
              "      background-color: #E8F0FE;\n",
              "      border: none;\n",
              "      border-radius: 50%;\n",
              "      cursor: pointer;\n",
              "      display: none;\n",
              "      fill: #1967D2;\n",
              "      height: 32px;\n",
              "      padding: 0 0 0 0;\n",
              "      width: 32px;\n",
              "    }\n",
              "\n",
              "    .colab-df-convert:hover {\n",
              "      background-color: #E2EBFA;\n",
              "      box-shadow: 0px 1px 2px rgba(60, 64, 67, 0.3), 0px 1px 3px 1px rgba(60, 64, 67, 0.15);\n",
              "      fill: #174EA6;\n",
              "    }\n",
              "\n",
              "    [theme=dark] .colab-df-convert {\n",
              "      background-color: #3B4455;\n",
              "      fill: #D2E3FC;\n",
              "    }\n",
              "\n",
              "    [theme=dark] .colab-df-convert:hover {\n",
              "      background-color: #434B5C;\n",
              "      box-shadow: 0px 1px 3px 1px rgba(0, 0, 0, 0.15);\n",
              "      filter: drop-shadow(0px 1px 2px rgba(0, 0, 0, 0.3));\n",
              "      fill: #FFFFFF;\n",
              "    }\n",
              "  </style>\n",
              "\n",
              "      <script>\n",
              "        const buttonEl =\n",
              "          document.querySelector('#df-10b2b696-c838-4e84-876d-07b8aa79299d button.colab-df-convert');\n",
              "        buttonEl.style.display =\n",
              "          google.colab.kernel.accessAllowed ? 'block' : 'none';\n",
              "\n",
              "        async function convertToInteractive(key) {\n",
              "          const element = document.querySelector('#df-10b2b696-c838-4e84-876d-07b8aa79299d');\n",
              "          const dataTable =\n",
              "            await google.colab.kernel.invokeFunction('convertToInteractive',\n",
              "                                                     [key], {});\n",
              "          if (!dataTable) return;\n",
              "\n",
              "          const docLinkHtml = 'Like what you see? Visit the ' +\n",
              "            '<a target=\"_blank\" href=https://colab.research.google.com/notebooks/data_table.ipynb>data table notebook</a>'\n",
              "            + ' to learn more about interactive tables.';\n",
              "          element.innerHTML = '';\n",
              "          dataTable['output_type'] = 'display_data';\n",
              "          await google.colab.output.renderOutput(dataTable, element);\n",
              "          const docLink = document.createElement('div');\n",
              "          docLink.innerHTML = docLinkHtml;\n",
              "          element.appendChild(docLink);\n",
              "        }\n",
              "      </script>\n",
              "    </div>\n",
              "  </div>\n",
              "  "
            ]
          },
          "metadata": {},
          "execution_count": 86
        }
      ]
    },
    {
      "cell_type": "code",
      "source": [
        "dados.info()"
      ],
      "metadata": {
        "colab": {
          "base_uri": "https://localhost:8080/"
        },
        "id": "P94bgt2JqJJJ",
        "outputId": "d29b8b0b-219a-4e9b-d046-fe3bab8c886a"
      },
      "execution_count": 87,
      "outputs": [
        {
          "output_type": "stream",
          "name": "stdout",
          "text": [
            "<class 'pandas.core.frame.DataFrame'>\n",
            "RangeIndex: 46 entries, 0 to 45\n",
            "Data columns (total 2 columns):\n",
            " #   Column  Non-Null Count  Dtype  \n",
            "---  ------  --------------  -----  \n",
            " 0   Data    46 non-null     object \n",
            " 1   Vendas  46 non-null     float64\n",
            "dtypes: float64(1), object(1)\n",
            "memory usage: 864.0+ bytes\n"
          ]
        }
      ]
    },
    {
      "cell_type": "code",
      "source": [
        "dados.Data = pd.to_datetime(dados.Data)\n",
        "dados.info()"
      ],
      "metadata": {
        "colab": {
          "base_uri": "https://localhost:8080/"
        },
        "id": "OzxK3wXLrlLn",
        "outputId": "25bb87ad-c2bc-41ae-c51a-6ef5d7afdf1c"
      },
      "execution_count": 88,
      "outputs": [
        {
          "output_type": "stream",
          "name": "stdout",
          "text": [
            "<class 'pandas.core.frame.DataFrame'>\n",
            "RangeIndex: 46 entries, 0 to 45\n",
            "Data columns (total 2 columns):\n",
            " #   Column  Non-Null Count  Dtype         \n",
            "---  ------  --------------  -----         \n",
            " 0   Data    46 non-null     datetime64[ns]\n",
            " 1   Vendas  46 non-null     float64       \n",
            "dtypes: datetime64[ns](1), float64(1)\n",
            "memory usage: 864.0 bytes\n"
          ]
        }
      ]
    },
    {
      "cell_type": "code",
      "source": [
        "dados.set_index('Data', inplace=True)"
      ],
      "metadata": {
        "id": "Gn7P5IXir6YG"
      },
      "execution_count": 89,
      "outputs": []
    },
    {
      "cell_type": "code",
      "source": [
        "dados.info()"
      ],
      "metadata": {
        "colab": {
          "base_uri": "https://localhost:8080/"
        },
        "id": "jsoHOPnbsrXv",
        "outputId": "b9446f8f-ec2b-45c0-bfd0-d78c43fef8f6"
      },
      "execution_count": 90,
      "outputs": [
        {
          "output_type": "stream",
          "name": "stdout",
          "text": [
            "<class 'pandas.core.frame.DataFrame'>\n",
            "DatetimeIndex: 46 entries, 2022-06-12 to 2023-01-20\n",
            "Data columns (total 1 columns):\n",
            " #   Column  Non-Null Count  Dtype  \n",
            "---  ------  --------------  -----  \n",
            " 0   Vendas  46 non-null     float64\n",
            "dtypes: float64(1)\n",
            "memory usage: 736.0 bytes\n"
          ]
        }
      ]
    },
    {
      "cell_type": "code",
      "source": [
        "dados.head()"
      ],
      "metadata": {
        "colab": {
          "base_uri": "https://localhost:8080/",
          "height": 237
        },
        "id": "1snlXJUgE_UR",
        "outputId": "64f68192-b439-452a-ec0a-367410f2f80f"
      },
      "execution_count": 91,
      "outputs": [
        {
          "output_type": "execute_result",
          "data": {
            "text/plain": [
              "             Vendas\n",
              "Data               \n",
              "2022-06-12  870.000\n",
              "2022-07-12  868.000\n",
              "2022-08-12    1.189\n",
              "2022-09-12  742.000\n",
              "2022-10-12  317.000"
            ],
            "text/html": [
              "\n",
              "  <div id=\"df-dbf3ea76-ca6e-4201-8fe3-c7f474928eba\">\n",
              "    <div class=\"colab-df-container\">\n",
              "      <div>\n",
              "<style scoped>\n",
              "    .dataframe tbody tr th:only-of-type {\n",
              "        vertical-align: middle;\n",
              "    }\n",
              "\n",
              "    .dataframe tbody tr th {\n",
              "        vertical-align: top;\n",
              "    }\n",
              "\n",
              "    .dataframe thead th {\n",
              "        text-align: right;\n",
              "    }\n",
              "</style>\n",
              "<table border=\"1\" class=\"dataframe\">\n",
              "  <thead>\n",
              "    <tr style=\"text-align: right;\">\n",
              "      <th></th>\n",
              "      <th>Vendas</th>\n",
              "    </tr>\n",
              "    <tr>\n",
              "      <th>Data</th>\n",
              "      <th></th>\n",
              "    </tr>\n",
              "  </thead>\n",
              "  <tbody>\n",
              "    <tr>\n",
              "      <th>2022-06-12</th>\n",
              "      <td>870.000</td>\n",
              "    </tr>\n",
              "    <tr>\n",
              "      <th>2022-07-12</th>\n",
              "      <td>868.000</td>\n",
              "    </tr>\n",
              "    <tr>\n",
              "      <th>2022-08-12</th>\n",
              "      <td>1.189</td>\n",
              "    </tr>\n",
              "    <tr>\n",
              "      <th>2022-09-12</th>\n",
              "      <td>742.000</td>\n",
              "    </tr>\n",
              "    <tr>\n",
              "      <th>2022-10-12</th>\n",
              "      <td>317.000</td>\n",
              "    </tr>\n",
              "  </tbody>\n",
              "</table>\n",
              "</div>\n",
              "      <button class=\"colab-df-convert\" onclick=\"convertToInteractive('df-dbf3ea76-ca6e-4201-8fe3-c7f474928eba')\"\n",
              "              title=\"Convert this dataframe to an interactive table.\"\n",
              "              style=\"display:none;\">\n",
              "        \n",
              "  <svg xmlns=\"http://www.w3.org/2000/svg\" height=\"24px\"viewBox=\"0 0 24 24\"\n",
              "       width=\"24px\">\n",
              "    <path d=\"M0 0h24v24H0V0z\" fill=\"none\"/>\n",
              "    <path d=\"M18.56 5.44l.94 2.06.94-2.06 2.06-.94-2.06-.94-.94-2.06-.94 2.06-2.06.94zm-11 1L8.5 8.5l.94-2.06 2.06-.94-2.06-.94L8.5 2.5l-.94 2.06-2.06.94zm10 10l.94 2.06.94-2.06 2.06-.94-2.06-.94-.94-2.06-.94 2.06-2.06.94z\"/><path d=\"M17.41 7.96l-1.37-1.37c-.4-.4-.92-.59-1.43-.59-.52 0-1.04.2-1.43.59L10.3 9.45l-7.72 7.72c-.78.78-.78 2.05 0 2.83L4 21.41c.39.39.9.59 1.41.59.51 0 1.02-.2 1.41-.59l7.78-7.78 2.81-2.81c.8-.78.8-2.07 0-2.86zM5.41 20L4 18.59l7.72-7.72 1.47 1.35L5.41 20z\"/>\n",
              "  </svg>\n",
              "      </button>\n",
              "      \n",
              "  <style>\n",
              "    .colab-df-container {\n",
              "      display:flex;\n",
              "      flex-wrap:wrap;\n",
              "      gap: 12px;\n",
              "    }\n",
              "\n",
              "    .colab-df-convert {\n",
              "      background-color: #E8F0FE;\n",
              "      border: none;\n",
              "      border-radius: 50%;\n",
              "      cursor: pointer;\n",
              "      display: none;\n",
              "      fill: #1967D2;\n",
              "      height: 32px;\n",
              "      padding: 0 0 0 0;\n",
              "      width: 32px;\n",
              "    }\n",
              "\n",
              "    .colab-df-convert:hover {\n",
              "      background-color: #E2EBFA;\n",
              "      box-shadow: 0px 1px 2px rgba(60, 64, 67, 0.3), 0px 1px 3px 1px rgba(60, 64, 67, 0.15);\n",
              "      fill: #174EA6;\n",
              "    }\n",
              "\n",
              "    [theme=dark] .colab-df-convert {\n",
              "      background-color: #3B4455;\n",
              "      fill: #D2E3FC;\n",
              "    }\n",
              "\n",
              "    [theme=dark] .colab-df-convert:hover {\n",
              "      background-color: #434B5C;\n",
              "      box-shadow: 0px 1px 3px 1px rgba(0, 0, 0, 0.15);\n",
              "      filter: drop-shadow(0px 1px 2px rgba(0, 0, 0, 0.3));\n",
              "      fill: #FFFFFF;\n",
              "    }\n",
              "  </style>\n",
              "\n",
              "      <script>\n",
              "        const buttonEl =\n",
              "          document.querySelector('#df-dbf3ea76-ca6e-4201-8fe3-c7f474928eba button.colab-df-convert');\n",
              "        buttonEl.style.display =\n",
              "          google.colab.kernel.accessAllowed ? 'block' : 'none';\n",
              "\n",
              "        async function convertToInteractive(key) {\n",
              "          const element = document.querySelector('#df-dbf3ea76-ca6e-4201-8fe3-c7f474928eba');\n",
              "          const dataTable =\n",
              "            await google.colab.kernel.invokeFunction('convertToInteractive',\n",
              "                                                     [key], {});\n",
              "          if (!dataTable) return;\n",
              "\n",
              "          const docLinkHtml = 'Like what you see? Visit the ' +\n",
              "            '<a target=\"_blank\" href=https://colab.research.google.com/notebooks/data_table.ipynb>data table notebook</a>'\n",
              "            + ' to learn more about interactive tables.';\n",
              "          element.innerHTML = '';\n",
              "          dataTable['output_type'] = 'display_data';\n",
              "          await google.colab.output.renderOutput(dataTable, element);\n",
              "          const docLink = document.createElement('div');\n",
              "          docLink.innerHTML = docLinkHtml;\n",
              "          element.appendChild(docLink);\n",
              "        }\n",
              "      </script>\n",
              "    </div>\n",
              "  </div>\n",
              "  "
            ]
          },
          "metadata": {},
          "execution_count": 91
        }
      ]
    },
    {
      "cell_type": "code",
      "source": [
        "fig,ax = plt.subplots(figsize=(20,6))\n",
        "ax.set_title('Variação Vendas', fontsize=18)\n",
        "ax.set_ylabel('Vendas_RS', fontsize=16)\n",
        "ax.set_xlabel('Dias', fontsize=16)\n",
        "ax = dados['Vendas'].plot()"
      ],
      "metadata": {
        "colab": {
          "base_uri": "https://localhost:8080/",
          "height": 374
        },
        "id": "NUG2LLbatgRb",
        "outputId": "dd3c09f8-53a8-453f-a3c8-c9c57fade466"
      },
      "execution_count": 92,
      "outputs": [
        {
          "output_type": "display_data",
          "data": {
            "text/plain": [
              "<Figure size 1440x432 with 1 Axes>"
            ],
            "image/png": "[encoded data removed]"
          },
          "metadata": {
            "needs_background": "light"
          }
        }
      ]
    },
    {
      "cell_type": "code",
      "source": [
        "from statsmodels.tsa.seasonal import seasonal_decompose\n",
        "from statsmodels.tsa.seasonal import STL"
      ],
      "metadata": {
        "id": "Po03Z6SauL46"
      },
      "execution_count": 93,
      "outputs": []
    },
    {
      "cell_type": "code",
      "source": [
        "resultados = seasonal_decompose(dados, period=5)"
      ],
      "metadata": {
        "id": "M0JaZLZmw1aI"
      },
      "execution_count": 94,
      "outputs": []
    },
    {
      "cell_type": "code",
      "source": [
        "y = dados['Vendas']\n",
        "y.head()"
      ],
      "metadata": {
        "colab": {
          "base_uri": "https://localhost:8080/"
        },
        "id": "7Zv63zCA3djA",
        "outputId": "7a96d553-55bb-48ef-dc8e-f4a50549c42f"
      },
      "execution_count": 95,
      "outputs": [
        {
          "output_type": "execute_result",
          "data": {
            "text/plain": [
              "Data\n",
              "2022-06-12    870.000\n",
              "2022-07-12    868.000\n",
              "2022-08-12      1.189\n",
              "2022-09-12    742.000\n",
              "2022-10-12    317.000\n",
              "Name: Vendas, dtype: float64"
            ]
          },
          "metadata": {},
          "execution_count": 95
        }
      ]
    },
    {
      "cell_type": "code",
      "source": [
        "y.describe()"
      ],
      "metadata": {
        "colab": {
          "base_uri": "https://localhost:8080/"
        },
        "id": "kzpmwpvFDpAx",
        "outputId": "108d4832-9c08-429d-ecfc-109cb2b86b5d"
      },
      "execution_count": 96,
      "outputs": [
        {
          "output_type": "execute_result",
          "data": {
            "text/plain": [
              "count     46.000000\n",
              "mean     374.685478\n",
              "std      358.222241\n",
              "min        1.009000\n",
              "25%        1.375750\n",
              "50%      303.000000\n",
              "75%      734.500000\n",
              "max      945.000000\n",
              "Name: Vendas, dtype: float64"
            ]
          },
          "metadata": {},
          "execution_count": 96
        }
      ]
    },
    {
      "cell_type": "code",
      "source": [
        "from statsmodels.tsa.stattools import adfuller\n",
        "adfuller(y.dropna())"
      ],
      "metadata": {
        "colab": {
          "base_uri": "https://localhost:8080/"
        },
        "id": "YBXFQfEQ3dRQ",
        "outputId": "e5a08099-5cf9-48d9-d07b-478ff3638142"
      },
      "execution_count": 97,
      "outputs": [
        {
          "output_type": "execute_result",
          "data": {
            "text/plain": [
              "(-6.637616898273641,\n",
              " 5.511730478027591e-09,\n",
              " 0,\n",
              " 45,\n",
              " {'1%': -3.584828853223594,\n",
              "  '5%': -2.9282991495198907,\n",
              "  '10%': -2.6023438271604937},\n",
              " 512.1579088341437)"
            ]
          },
          "metadata": {},
          "execution_count": 97
        }
      ]
    },
    {
      "cell_type": "code",
      "source": [
        "print('p-valor:', adfuller(y.dropna())[1])"
      ],
      "metadata": {
        "colab": {
          "base_uri": "https://localhost:8080/"
        },
        "id": "N4WcvSN33c6F",
        "outputId": "056e8875-2e01-441c-8247-1d2a2719c2b2"
      },
      "execution_count": 98,
      "outputs": [
        {
          "output_type": "stream",
          "name": "stdout",
          "text": [
            "p-valor: 5.511730478027591e-09\n"
          ]
        }
      ]
    },
    {
      "cell_type": "code",
      "source": [
        "from statsmodels.graphics.tsaplots import plot_acf, plot_pacf"
      ],
      "metadata": {
        "id": "0p4a4oef41SC"
      },
      "execution_count": 99,
      "outputs": []
    },
    {
      "cell_type": "markdown",
      "source": [
        "Análise de diferenciação e manipulação dos dados"
      ],
      "metadata": {
        "id": "j_mWGggZXCqG"
      }
    },
    {
      "cell_type": "code",
      "source": [
        "def plotarACF(y1,y2,y3):\n",
        "  fig = plt.figure(figsize=(10,10))\n",
        "  ax1 = fig.add_subplot(311)\n",
        "  fig = plot_acf(y1,ax=ax1,title='Original')\n",
        "  ax2 = fig.add_subplot(312)\n",
        "  fig = plot_acf(y2,ax=ax2,title='1ª Diferenciação')\n",
        "  ax3 = fig.add_subplot(313)\n",
        "  fig = plot_acf(y3,ax=ax3,title='2ª Diferenciação')"
      ],
      "metadata": {
        "id": "MVHO4XtD41JG"
      },
      "execution_count": 100,
      "outputs": []
    },
    {
      "cell_type": "code",
      "source": [
        "plotarACF(y,y.diff().dropna(), y.diff().diff().dropna())"
      ],
      "metadata": {
        "colab": {
          "base_uri": "https://localhost:8080/",
          "height": 607
        },
        "id": "Y24TJKIJ406q",
        "outputId": "ee667d41-3316-4ad9-af97-5a4f67cc9552"
      },
      "execution_count": 101,
      "outputs": [
        {
          "output_type": "display_data",
          "data": {
            "text/plain": [
              "<Figure size 720x720 with 3 Axes>"
            ],
            "image/png": "[encoded data removed]"
          },
          "metadata": {
            "needs_background": "light"
          }
        }
      ]
    },
    {
      "cell_type": "code",
      "source": [
        "plot_pacf(y.diff().dropna(), lags=20);"
      ],
      "metadata": {
        "colab": {
          "base_uri": "https://localhost:8080/",
          "height": 281
        },
        "id": "ZkCqNZ_H_59K",
        "outputId": "15e48885-d0bd-48eb-ae44-5d21d42bf7b5"
      },
      "execution_count": 102,
      "outputs": [
        {
          "output_type": "display_data",
          "data": {
            "text/plain": [
              "<Figure size 432x288 with 1 Axes>"
            ],
            "image/png": "[encoded data removed]"
          },
          "metadata": {
            "needs_background": "light"
          }
        }
      ]
    },
    {
      "cell_type": "code",
      "source": [
        "plot_pacf(y.diff().diff().dropna(), lags=20);"
      ],
      "metadata": {
        "colab": {
          "base_uri": "https://localhost:8080/",
          "height": 281
        },
        "id": "yPQReFUE_5x4",
        "outputId": "b5407c96-d995-4ab8-9ba9-2898ef2776d4"
      },
      "execution_count": 103,
      "outputs": [
        {
          "output_type": "display_data",
          "data": {
            "text/plain": [
              "<Figure size 432x288 with 1 Axes>"
            ],
            "image/png": "[encoded data removed]"
          },
          "metadata": {
            "needs_background": "light"
          }
        }
      ]
    },
    {
      "cell_type": "code",
      "source": [
        "plot_pacf(y.diff().dropna());"
      ],
      "metadata": {
        "colab": {
          "base_uri": "https://localhost:8080/",
          "height": 281
        },
        "id": "PHgaZqit_5jf",
        "outputId": "05d4c2ae-f36f-4723-e4e2-732d69552041"
      },
      "execution_count": 104,
      "outputs": [
        {
          "output_type": "display_data",
          "data": {
            "text/plain": [
              "<Figure size 432x288 with 1 Axes>"
            ],
            "image/png": "[encoded data removed]"
          },
          "metadata": {
            "needs_background": "light"
          }
        }
      ]
    },
    {
      "cell_type": "code",
      "source": [
        "plot_acf(y.diff().dropna());"
      ],
      "metadata": {
        "colab": {
          "base_uri": "https://localhost:8080/",
          "height": 281
        },
        "id": "0D0zXsWX_5Qu",
        "outputId": "e863ee4f-5a8c-4d51-f8f9-666f1188651e"
      },
      "execution_count": 105,
      "outputs": [
        {
          "output_type": "display_data",
          "data": {
            "text/plain": [
              "<Figure size 432x288 with 1 Axes>"
            ],
            "image/png": "[encoded data removed]"
          },
          "metadata": {
            "needs_background": "light"
          }
        }
      ]
    },
    {
      "cell_type": "code",
      "source": [
        "plot_acf(y.diff().diff().dropna());"
      ],
      "metadata": {
        "colab": {
          "base_uri": "https://localhost:8080/",
          "height": 281
        },
        "id": "63rOZNLvF8hI",
        "outputId": "d1f15f65-8666-4cf2-c4a1-11d98d1a13cc"
      },
      "execution_count": 106,
      "outputs": [
        {
          "output_type": "display_data",
          "data": {
            "text/plain": [
              "<Figure size 432x288 with 1 Axes>"
            ],
            "image/png": "[encoded data removed]"
          },
          "metadata": {
            "needs_background": "light"
          }
        }
      ]
    },
    {
      "cell_type": "markdown",
      "source": [
        "Testando os modelos"
      ],
      "metadata": {
        "id": "ZVXyFhtOXXRq"
      }
    },
    {
      "cell_type": "markdown",
      "source": [
        "## Arima (p = 1,d = 1,q = 1)"
      ],
      "metadata": {
        "id": "8uxEYzwKFRwJ"
      }
    },
    {
      "cell_type": "code",
      "source": [
        "from statsmodels.tsa.arima_model import ARIMA"
      ],
      "metadata": {
        "id": "gySR6t6OGM7o"
      },
      "execution_count": 107,
      "outputs": []
    },
    {
      "cell_type": "code",
      "source": [
        "modelo = ARIMA(y,order=(1,1,1))\n",
        "modelo_fit = modelo.fit(disp=0)\n",
        "print(modelo_fit.summary())"
      ],
      "metadata": {
        "colab": {
          "base_uri": "https://localhost:8080/"
        },
        "id": "LOvmRRelGdq-",
        "outputId": "487b3424-4138-43a4-ecef-2aaafaf22cec"
      },
      "execution_count": 108,
      "outputs": [
        {
          "output_type": "stream",
          "name": "stdout",
          "text": [
            "                             ARIMA Model Results                              \n",
            "==============================================================================\n",
            "Dep. Variable:               D.Vendas   No. Observations:                   45\n",
            "Model:                 ARIMA(1, 1, 1)   Log Likelihood                -330.415\n",
            "Method:                       css-mle   S.D. of innovations            358.246\n",
            "Date:                Sun, 05 Feb 2023   AIC                            668.829\n",
            "Time:                        16:27:41   BIC                            676.056\n",
            "Sample:                             1   HQIC                           671.523\n",
            "                                                                              \n",
            "==================================================================================\n",
            "                     coef    std err          z      P>|z|      [0.025      0.975]\n",
            "----------------------------------------------------------------------------------\n",
            "const             -0.3230      3.996     -0.081      0.936      -8.154       7.509\n",
            "ar.L1.D.Vendas     0.0046      0.157      0.029      0.977      -0.304       0.313\n",
            "ma.L1.D.Vendas    -0.9999      0.066    -15.229      0.000      -1.129      -0.871\n",
            "                                    Roots                                    \n",
            "=============================================================================\n",
            "                  Real          Imaginary           Modulus         Frequency\n",
            "-----------------------------------------------------------------------------\n",
            "AR.1          219.0869           +0.0000j          219.0869            0.0000\n",
            "MA.1            1.0001           +0.0000j            1.0001            0.0000\n",
            "-----------------------------------------------------------------------------\n"
          ]
        }
      ]
    },
    {
      "cell_type": "markdown",
      "source": [
        "## Sarima (Arima sazonal)"
      ],
      "metadata": {
        "id": "aHOThp3CTgGH"
      }
    },
    {
      "cell_type": "code",
      "source": [
        "import itertools\n",
        "p = d = q = range(0,2)\n",
        "pdq = list(itertools.product(p,d,q))\n",
        "sazonal_pdq = [(x[0], x[1], x[2], 5) for x in list(itertools.product(p,d,q))]"
      ],
      "metadata": {
        "id": "TZui45JYHDWC"
      },
      "execution_count": 109,
      "outputs": []
    },
    {
      "cell_type": "code",
      "source": [
        "print('exemplo de combinação de parametros para o   ARIMA SAZONAL')\n",
        "print('Sarimax: {} x {}'.format(pdq[0], sazonal_pdq[0]))\n",
        "print('Sarimax: {} x {}'.format(pdq[0], sazonal_pdq[1]))\n",
        "print('Sarimax: {} x {}'.format(pdq[0], sazonal_pdq[2]))"
      ],
      "metadata": {
        "colab": {
          "base_uri": "https://localhost:8080/"
        },
        "id": "oKVrdChAWPag",
        "outputId": "200008ae-0833-456e-e538-c45128a07aed"
      },
      "execution_count": 110,
      "outputs": [
        {
          "output_type": "stream",
          "name": "stdout",
          "text": [
            "exemplo de combinação de parametros para o   ARIMA SAZONAL\n",
            "Sarimax: (0, 0, 0) x (0, 0, 0, 5)\n",
            "Sarimax: (0, 0, 0) x (0, 0, 1, 5)\n",
            "Sarimax: (0, 0, 0) x (0, 1, 0, 5)\n"
          ]
        }
      ]
    },
    {
      "cell_type": "code",
      "source": [
        "y = dados['Vendas']\n",
        "y"
      ],
      "metadata": {
        "colab": {
          "base_uri": "https://localhost:8080/"
        },
        "id": "YLnI0a2HXc_O",
        "outputId": "8532e7f7-ef55-4a17-8c79-cf59d8bd7a3e"
      },
      "execution_count": 111,
      "outputs": [
        {
          "output_type": "execute_result",
          "data": {
            "text/plain": [
              "Data\n",
              "2022-06-12    870.000\n",
              "2022-07-12    868.000\n",
              "2022-08-12      1.189\n",
              "2022-09-12    742.000\n",
              "2022-10-12    317.000\n",
              "2022-11-12    685.000\n",
              "2022-12-12      1.366\n",
              "2022-12-13      1.213\n",
              "2022-12-14      1.055\n",
              "2022-12-15      1.343\n",
              "2022-12-16    832.000\n",
              "2022-12-17    240.000\n",
              "2022-12-18    235.000\n",
              "2022-12-19      1.050\n",
              "2022-12-20    711.000\n",
              "2022-12-21    745.000\n",
              "2022-12-22      1.009\n",
              "2022-12-23     18.000\n",
              "2022-12-24     40.000\n",
              "2022-12-25     67.000\n",
              "2022-12-26    821.000\n",
              "2022-12-27    572.000\n",
              "2022-12-28    429.000\n",
              "2022-12-29    638.000\n",
              "2022-12-30    106.000\n",
              "2022-12-31     54.000\n",
              "2023-01-01    144.000\n",
              "2023-02-01    814.000\n",
              "2023-03-01    679.000\n",
              "2023-04-01    712.000\n",
              "2023-05-01      1.229\n",
              "2023-06-01    821.000\n",
              "2023-07-01    319.000\n",
              "2023-08-01    317.000\n",
              "2023-09-01      1.317\n",
              "2023-10-01    807.000\n",
              "2023-11-01    923.000\n",
              "2023-12-01      1.265\n",
              "2023-01-13    892.000\n",
              "2023-01-14    289.000\n",
              "2023-01-15    566.000\n",
              "2023-01-16      1.692\n",
              "2023-01-17      1.097\n",
              "2023-01-18      1.302\n",
              "2023-01-19      1.405\n",
              "2023-01-20    945.000\n",
              "Name: Vendas, dtype: float64"
            ]
          },
          "metadata": {},
          "execution_count": 111
        }
      ]
    },
    {
      "cell_type": "code",
      "source": [
        "aic_lista = []\n",
        "for param in pdq:\n",
        "  for param_sazonal in sazonal_pdq:\n",
        "   mod = sm.tsa.statespace.SARIMAX(y,\n",
        "                                   order=param,\n",
        "                                   sazonal_order=param_sazonal) \n",
        "   results = mod.fit()\n",
        "   aic_lista.append('Arima{} x {} - AIC {}'.format(param, param_sazonal, results.aic))"
      ],
      "metadata": {
        "id": "OuaU52iTYFvc"
      },
      "execution_count": 112,
      "outputs": []
    },
    {
      "cell_type": "code",
      "source": [
        "aic_lista"
      ],
      "metadata": {
        "colab": {
          "base_uri": "https://localhost:8080/"
        },
        "id": "9pvuJ13ragvk",
        "outputId": "51fc8b41-7ce6-40de-e609-323e2fcc9fd3"
      },
      "execution_count": 113,
      "outputs": [
        {
          "output_type": "execute_result",
          "data": {
            "text/plain": [
              "['Arima(0, 0, 0) x (0, 0, 0, 5) - AIC 707.1265566364315',\n",
              " 'Arima(0, 0, 0) x (0, 0, 1, 5) - AIC 707.1265566364315',\n",
              " 'Arima(0, 0, 0) x (0, 1, 0, 5) - AIC 707.1265566364315',\n",
              " 'Arima(0, 0, 0) x (0, 1, 1, 5) - AIC 707.1265566364315',\n",
              " 'Arima(0, 0, 0) x (1, 0, 0, 5) - AIC 707.1265566364315',\n",
              " 'Arima(0, 0, 0) x (1, 0, 1, 5) - AIC 707.1265566364315',\n",
              " 'Arima(0, 0, 0) x (1, 1, 0, 5) - AIC 707.1265566364315',\n",
              " 'Arima(0, 0, 0) x (1, 1, 1, 5) - AIC 707.1265566364315',\n",
              " 'Arima(0, 0, 1) x (0, 0, 0, 5) - AIC 701.5964452934973',\n",
              " 'Arima(0, 0, 1) x (0, 0, 1, 5) - AIC 701.5964452934973',\n",
              " 'Arima(0, 0, 1) x (0, 1, 0, 5) - AIC 701.5964452934973',\n",
              " 'Arima(0, 0, 1) x (0, 1, 1, 5) - AIC 701.5964452934973',\n",
              " 'Arima(0, 0, 1) x (1, 0, 0, 5) - AIC 701.5964452934973',\n",
              " 'Arima(0, 0, 1) x (1, 0, 1, 5) - AIC 701.5964452934973',\n",
              " 'Arima(0, 0, 1) x (1, 1, 0, 5) - AIC 701.5964452934973',\n",
              " 'Arima(0, 0, 1) x (1, 1, 1, 5) - AIC 701.5964452934973',\n",
              " 'Arima(0, 1, 0) x (0, 0, 0, 5) - AIC 688.7355267697216',\n",
              " 'Arima(0, 1, 0) x (0, 0, 1, 5) - AIC 688.7355267697216',\n",
              " 'Arima(0, 1, 0) x (0, 1, 0, 5) - AIC 688.7355267697216',\n",
              " 'Arima(0, 1, 0) x (0, 1, 1, 5) - AIC 688.7355267697216',\n",
              " 'Arima(0, 1, 0) x (1, 0, 0, 5) - AIC 688.7355267697216',\n",
              " 'Arima(0, 1, 0) x (1, 0, 1, 5) - AIC 688.7355267697216',\n",
              " 'Arima(0, 1, 0) x (1, 1, 0, 5) - AIC 688.7355267697216',\n",
              " 'Arima(0, 1, 0) x (1, 1, 1, 5) - AIC 688.7355267697216',\n",
              " 'Arima(0, 1, 1) x (0, 0, 0, 5) - AIC 664.2536159075727',\n",
              " 'Arima(0, 1, 1) x (0, 0, 1, 5) - AIC 664.2536159075727',\n",
              " 'Arima(0, 1, 1) x (0, 1, 0, 5) - AIC 664.2536159075727',\n",
              " 'Arima(0, 1, 1) x (0, 1, 1, 5) - AIC 664.2536159075727',\n",
              " 'Arima(0, 1, 1) x (1, 0, 0, 5) - AIC 664.2536159075727',\n",
              " 'Arima(0, 1, 1) x (1, 0, 1, 5) - AIC 664.2536159075727',\n",
              " 'Arima(0, 1, 1) x (1, 1, 0, 5) - AIC 664.2536159075727',\n",
              " 'Arima(0, 1, 1) x (1, 1, 1, 5) - AIC 664.2536159075727',\n",
              " 'Arima(1, 0, 0) x (0, 0, 0, 5) - AIC 695.5332187620704',\n",
              " 'Arima(1, 0, 0) x (0, 0, 1, 5) - AIC 695.5332187620704',\n",
              " 'Arima(1, 0, 0) x (0, 1, 0, 5) - AIC 695.5332187620704',\n",
              " 'Arima(1, 0, 0) x (0, 1, 1, 5) - AIC 695.5332187620704',\n",
              " 'Arima(1, 0, 0) x (1, 0, 0, 5) - AIC 695.5332187620704',\n",
              " 'Arima(1, 0, 0) x (1, 0, 1, 5) - AIC 695.5332187620704',\n",
              " 'Arima(1, 0, 0) x (1, 1, 0, 5) - AIC 695.5332187620704',\n",
              " 'Arima(1, 0, 0) x (1, 1, 1, 5) - AIC 695.5332187620704',\n",
              " 'Arima(1, 0, 1) x (0, 0, 0, 5) - AIC 681.5280480131623',\n",
              " 'Arima(1, 0, 1) x (0, 0, 1, 5) - AIC 681.5280480131623',\n",
              " 'Arima(1, 0, 1) x (0, 1, 0, 5) - AIC 681.5280480131623',\n",
              " 'Arima(1, 0, 1) x (0, 1, 1, 5) - AIC 681.5280480131623',\n",
              " 'Arima(1, 0, 1) x (1, 0, 0, 5) - AIC 681.5280480131623',\n",
              " 'Arima(1, 0, 1) x (1, 0, 1, 5) - AIC 681.5280480131623',\n",
              " 'Arima(1, 0, 1) x (1, 1, 0, 5) - AIC 681.5280480131623',\n",
              " 'Arima(1, 0, 1) x (1, 1, 1, 5) - AIC 681.5280480131623',\n",
              " 'Arima(1, 1, 0) x (0, 0, 0, 5) - AIC 678.5277155695828',\n",
              " 'Arima(1, 1, 0) x (0, 0, 1, 5) - AIC 678.5277155695828',\n",
              " 'Arima(1, 1, 0) x (0, 1, 0, 5) - AIC 678.5277155695828',\n",
              " 'Arima(1, 1, 0) x (0, 1, 1, 5) - AIC 678.5277155695828',\n",
              " 'Arima(1, 1, 0) x (1, 0, 0, 5) - AIC 678.5277155695828',\n",
              " 'Arima(1, 1, 0) x (1, 0, 1, 5) - AIC 678.5277155695828',\n",
              " 'Arima(1, 1, 0) x (1, 1, 0, 5) - AIC 678.5277155695828',\n",
              " 'Arima(1, 1, 0) x (1, 1, 1, 5) - AIC 678.5277155695828',\n",
              " 'Arima(1, 1, 1) x (0, 0, 0, 5) - AIC 666.2534868356356',\n",
              " 'Arima(1, 1, 1) x (0, 0, 1, 5) - AIC 666.2534868356356',\n",
              " 'Arima(1, 1, 1) x (0, 1, 0, 5) - AIC 666.2534868356356',\n",
              " 'Arima(1, 1, 1) x (0, 1, 1, 5) - AIC 666.2534868356356',\n",
              " 'Arima(1, 1, 1) x (1, 0, 0, 5) - AIC 666.2534868356356',\n",
              " 'Arima(1, 1, 1) x (1, 0, 1, 5) - AIC 666.2534868356356',\n",
              " 'Arima(1, 1, 1) x (1, 1, 0, 5) - AIC 666.2534868356356',\n",
              " 'Arima(1, 1, 1) x (1, 1, 1, 5) - AIC 666.2534868356356']"
            ]
          },
          "metadata": {},
          "execution_count": 113
        }
      ]
    },
    {
      "cell_type": "markdown",
      "source": [
        "Criando o modelo final"
      ],
      "metadata": {
        "id": "GQ02IeuKbJ7a"
      }
    },
    {
      "cell_type": "code",
      "source": [
        "mod = sm.tsa.statespace.SARIMAX(y,\n",
        "                                order=(1,1,1),\n",
        "                               sazonal_order=(1,1,1,5))\n",
        "results = mod.fit()"
      ],
      "metadata": {
        "id": "1NvOao_3bGcL"
      },
      "execution_count": 114,
      "outputs": []
    },
    {
      "cell_type": "code",
      "source": [
        "results.plot_diagnostics(figsize=(16,8))\n",
        "plt.show()"
      ],
      "metadata": {
        "colab": {
          "base_uri": "https://localhost:8080/",
          "height": 513
        },
        "id": "fSCrZrombxXi",
        "outputId": "15e25fc0-d4e8-4de1-fc1f-40c899cbce9f"
      },
      "execution_count": 115,
      "outputs": [
        {
          "output_type": "display_data",
          "data": {
            "text/plain": [
              "<Figure size 1152x576 with 4 Axes>"
            ],
            "image/png": "[encoded data removed]"
          },
          "metadata": {
            "needs_background": "light"
          }
        }
      ]
    },
    {
      "cell_type": "markdown",
      "source": [
        "Prevendo a Demanda"
      ],
      "metadata": {
        "id": "y_apj2VXfVoB"
      }
    },
    {
      "cell_type": "code",
      "source": [
        "pred = results.get_prediction(start=pd.to_datetime('2022-06-12'), dynamic=False)\n",
        "pred_ic = pred.conf_int()\n",
        "pred_ic.head()"
      ],
      "metadata": {
        "colab": {
          "base_uri": "https://localhost:8080/",
          "height": 237
        },
        "id": "3nQL2FCghSJJ",
        "outputId": "5fa8d1c4-7b8a-4dd7-dff0-2c1ae52c6f35"
      },
      "execution_count": 116,
      "outputs": [
        {
          "output_type": "execute_result",
          "data": {
            "text/plain": [
              "            lower Vendas  upper Vendas\n",
              "Data                                  \n",
              "2022-06-12  -2197.145628   2197.145628\n",
              "2022-07-12   -186.149230   1748.381616\n",
              "2022-08-12    -29.833100   1674.309385\n",
              "2022-09-12   -248.072316   1365.743199\n",
              "2022-10-12   -179.628384   1385.758928"
            ],
            "text/html": [
              "\n",
              "  <div id=\"df-be3b9a47-ed34-49be-a28c-062c88553e2f\">\n",
              "    <div class=\"colab-df-container\">\n",
              "      <div>\n",
              "<style scoped>\n",
              "    .dataframe tbody tr th:only-of-type {\n",
              "        vertical-align: middle;\n",
              "    }\n",
              "\n",
              "    .dataframe tbody tr th {\n",
              "        vertical-align: top;\n",
              "    }\n",
              "\n",
              "    .dataframe thead th {\n",
              "        text-align: right;\n",
              "    }\n",
              "</style>\n",
              "<table border=\"1\" class=\"dataframe\">\n",
              "  <thead>\n",
              "    <tr style=\"text-align: right;\">\n",
              "      <th></th>\n",
              "      <th>lower Vendas</th>\n",
              "      <th>upper Vendas</th>\n",
              "    </tr>\n",
              "    <tr>\n",
              "      <th>Data</th>\n",
              "      <th></th>\n",
              "      <th></th>\n",
              "    </tr>\n",
              "  </thead>\n",
              "  <tbody>\n",
              "    <tr>\n",
              "      <th>2022-06-12</th>\n",
              "      <td>-2197.145628</td>\n",
              "      <td>2197.145628</td>\n",
              "    </tr>\n",
              "    <tr>\n",
              "      <th>2022-07-12</th>\n",
              "      <td>-186.149230</td>\n",
              "      <td>1748.381616</td>\n",
              "    </tr>\n",
              "    <tr>\n",
              "      <th>2022-08-12</th>\n",
              "      <td>-29.833100</td>\n",
              "      <td>1674.309385</td>\n",
              "    </tr>\n",
              "    <tr>\n",
              "      <th>2022-09-12</th>\n",
              "      <td>-248.072316</td>\n",
              "      <td>1365.743199</td>\n",
              "    </tr>\n",
              "    <tr>\n",
              "      <th>2022-10-12</th>\n",
              "      <td>-179.628384</td>\n",
              "      <td>1385.758928</td>\n",
              "    </tr>\n",
              "  </tbody>\n",
              "</table>\n",
              "</div>\n",
              "      <button class=\"colab-df-convert\" onclick=\"convertToInteractive('df-be3b9a47-ed34-49be-a28c-062c88553e2f')\"\n",
              "              title=\"Convert this dataframe to an interactive table.\"\n",
              "              style=\"display:none;\">\n",
              "        \n",
              "  <svg xmlns=\"http://www.w3.org/2000/svg\" height=\"24px\"viewBox=\"0 0 24 24\"\n",
              "       width=\"24px\">\n",
              "    <path d=\"M0 0h24v24H0V0z\" fill=\"none\"/>\n",
              "    <path d=\"M18.56 5.44l.94 2.06.94-2.06 2.06-.94-2.06-.94-.94-2.06-.94 2.06-2.06.94zm-11 1L8.5 8.5l.94-2.06 2.06-.94-2.06-.94L8.5 2.5l-.94 2.06-2.06.94zm10 10l.94 2.06.94-2.06 2.06-.94-2.06-.94-.94-2.06-.94 2.06-2.06.94z\"/><path d=\"M17.41 7.96l-1.37-1.37c-.4-.4-.92-.59-1.43-.59-.52 0-1.04.2-1.43.59L10.3 9.45l-7.72 7.72c-.78.78-.78 2.05 0 2.83L4 21.41c.39.39.9.59 1.41.59.51 0 1.02-.2 1.41-.59l7.78-7.78 2.81-2.81c.8-.78.8-2.07 0-2.86zM5.41 20L4 18.59l7.72-7.72 1.47 1.35L5.41 20z\"/>\n",
              "  </svg>\n",
              "      </button>\n",
              "      \n",
              "  <style>\n",
              "    .colab-df-container {\n",
              "      display:flex;\n",
              "      flex-wrap:wrap;\n",
              "      gap: 12px;\n",
              "    }\n",
              "\n",
              "    .colab-df-convert {\n",
              "      background-color: #E8F0FE;\n",
              "      border: none;\n",
              "      border-radius: 50%;\n",
              "      cursor: pointer;\n",
              "      display: none;\n",
              "      fill: #1967D2;\n",
              "      height: 32px;\n",
              "      padding: 0 0 0 0;\n",
              "      width: 32px;\n",
              "    }\n",
              "\n",
              "    .colab-df-convert:hover {\n",
              "      background-color: #E2EBFA;\n",
              "      box-shadow: 0px 1px 2px rgba(60, 64, 67, 0.3), 0px 1px 3px 1px rgba(60, 64, 67, 0.15);\n",
              "      fill: #174EA6;\n",
              "    }\n",
              "\n",
              "    [theme=dark] .colab-df-convert {\n",
              "      background-color: #3B4455;\n",
              "      fill: #D2E3FC;\n",
              "    }\n",
              "\n",
              "    [theme=dark] .colab-df-convert:hover {\n",
              "      background-color: #434B5C;\n",
              "      box-shadow: 0px 1px 3px 1px rgba(0, 0, 0, 0.15);\n",
              "      filter: drop-shadow(0px 1px 2px rgba(0, 0, 0, 0.3));\n",
              "      fill: #FFFFFF;\n",
              "    }\n",
              "  </style>\n",
              "\n",
              "      <script>\n",
              "        const buttonEl =\n",
              "          document.querySelector('#df-be3b9a47-ed34-49be-a28c-062c88553e2f button.colab-df-convert');\n",
              "        buttonEl.style.display =\n",
              "          google.colab.kernel.accessAllowed ? 'block' : 'none';\n",
              "\n",
              "        async function convertToInteractive(key) {\n",
              "          const element = document.querySelector('#df-be3b9a47-ed34-49be-a28c-062c88553e2f');\n",
              "          const dataTable =\n",
              "            await google.colab.kernel.invokeFunction('convertToInteractive',\n",
              "                                                     [key], {});\n",
              "          if (!dataTable) return;\n",
              "\n",
              "          const docLinkHtml = 'Like what you see? Visit the ' +\n",
              "            '<a target=\"_blank\" href=https://colab.research.google.com/notebooks/data_table.ipynb>data table notebook</a>'\n",
              "            + ' to learn more about interactive tables.';\n",
              "          element.innerHTML = '';\n",
              "          dataTable['output_type'] = 'display_data';\n",
              "          await google.colab.output.renderOutput(dataTable, element);\n",
              "          const docLink = document.createElement('div');\n",
              "          docLink.innerHTML = docLinkHtml;\n",
              "          element.appendChild(docLink);\n",
              "        }\n",
              "      </script>\n",
              "    </div>\n",
              "  </div>\n",
              "  "
            ]
          },
          "metadata": {},
          "execution_count": 116
        }
      ]
    },
    {
      "cell_type": "code",
      "source": [
        "ax = y['2022':].plot(label='Observado')\n",
        "pred.predicted_mean.plot(ax=ax, label='Previsão', color='r', alpha=0.7, figsize=(14,7))\n",
        "ax.fill_between(pred_ic.index, pred_ic.iloc[:,0], pred_ic.iloc[:,1], color='k', alpha=0.1)\n",
        "ax.set_xlabel('Data') \n",
        "ax.set_ylabel('Vendas')\n",
        "plt.legend()\n",
        "plt.show()"
      ],
      "metadata": {
        "colab": {
          "base_uri": "https://localhost:8080/",
          "height": 424
        },
        "id": "Vgb4cRpmiOLb",
        "outputId": "4bdb5560-07c6-4a3c-a98c-007c99f942bf"
      },
      "execution_count": 117,
      "outputs": [
        {
          "output_type": "display_data",
          "data": {
            "text/plain": [
              "<Figure size 1008x504 with 1 Axes>"
            ],
            "image/png": "[encoded data removed]"
          },
          "metadata": {
            "needs_background": "light"
          }
        }
      ]
    },
    {
      "cell_type": "code",
      "source": [
        "pred_uc = results.get_forecast(steps=5)\n",
        "pred_ic = pred_uc.conf_int()\n",
        "pred_ic"
      ],
      "metadata": {
        "colab": {
          "base_uri": "https://localhost:8080/",
          "height": 206
        },
        "id": "-v3M251nq7Vc",
        "outputId": "bab72f23-f9eb-47af-e8bb-1546d70161c4"
      },
      "execution_count": 118,
      "outputs": [
        {
          "output_type": "execute_result",
          "data": {
            "text/plain": [
              "    lower Vendas  upper Vendas\n",
              "46   -336.044651   1083.080973\n",
              "47   -335.803552   1083.309842\n",
              "48   -335.803670   1083.309766\n",
              "49   -335.803688   1083.309785\n",
              "50   -335.803706   1083.309803"
            ],
            "text/html": [
              "\n",
              "  <div id=\"df-bf14a84c-1021-4978-bbbf-02e67f63df72\">\n",
              "    <div class=\"colab-df-container\">\n",
              "      <div>\n",
              "<style scoped>\n",
              "    .dataframe tbody tr th:only-of-type {\n",
              "        vertical-align: middle;\n",
              "    }\n",
              "\n",
              "    .dataframe tbody tr th {\n",
              "        vertical-align: top;\n",
              "    }\n",
              "\n",
              "    .dataframe thead th {\n",
              "        text-align: right;\n",
              "    }\n",
              "</style>\n",
              "<table border=\"1\" class=\"dataframe\">\n",
              "  <thead>\n",
              "    <tr style=\"text-align: right;\">\n",
              "      <th></th>\n",
              "      <th>lower Vendas</th>\n",
              "      <th>upper Vendas</th>\n",
              "    </tr>\n",
              "  </thead>\n",
              "  <tbody>\n",
              "    <tr>\n",
              "      <th>46</th>\n",
              "      <td>-336.044651</td>\n",
              "      <td>1083.080973</td>\n",
              "    </tr>\n",
              "    <tr>\n",
              "      <th>47</th>\n",
              "      <td>-335.803552</td>\n",
              "      <td>1083.309842</td>\n",
              "    </tr>\n",
              "    <tr>\n",
              "      <th>48</th>\n",
              "      <td>-335.803670</td>\n",
              "      <td>1083.309766</td>\n",
              "    </tr>\n",
              "    <tr>\n",
              "      <th>49</th>\n",
              "      <td>-335.803688</td>\n",
              "      <td>1083.309785</td>\n",
              "    </tr>\n",
              "    <tr>\n",
              "      <th>50</th>\n",
              "      <td>-335.803706</td>\n",
              "      <td>1083.309803</td>\n",
              "    </tr>\n",
              "  </tbody>\n",
              "</table>\n",
              "</div>\n",
              "      <button class=\"colab-df-convert\" onclick=\"convertToInteractive('df-bf14a84c-1021-4978-bbbf-02e67f63df72')\"\n",
              "              title=\"Convert this dataframe to an interactive table.\"\n",
              "              style=\"display:none;\">\n",
              "        \n",
              "  <svg xmlns=\"http://www.w3.org/2000/svg\" height=\"24px\"viewBox=\"0 0 24 24\"\n",
              "       width=\"24px\">\n",
              "    <path d=\"M0 0h24v24H0V0z\" fill=\"none\"/>\n",
              "    <path d=\"M18.56 5.44l.94 2.06.94-2.06 2.06-.94-2.06-.94-.94-2.06-.94 2.06-2.06.94zm-11 1L8.5 8.5l.94-2.06 2.06-.94-2.06-.94L8.5 2.5l-.94 2.06-2.06.94zm10 10l.94 2.06.94-2.06 2.06-.94-2.06-.94-.94-2.06-.94 2.06-2.06.94z\"/><path d=\"M17.41 7.96l-1.37-1.37c-.4-.4-.92-.59-1.43-.59-.52 0-1.04.2-1.43.59L10.3 9.45l-7.72 7.72c-.78.78-.78 2.05 0 2.83L4 21.41c.39.39.9.59 1.41.59.51 0 1.02-.2 1.41-.59l7.78-7.78 2.81-2.81c.8-.78.8-2.07 0-2.86zM5.41 20L4 18.59l7.72-7.72 1.47 1.35L5.41 20z\"/>\n",
              "  </svg>\n",
              "      </button>\n",
              "      \n",
              "  <style>\n",
              "    .colab-df-container {\n",
              "      display:flex;\n",
              "      flex-wrap:wrap;\n",
              "      gap: 12px;\n",
              "    }\n",
              "\n",
              "    .colab-df-convert {\n",
              "      background-color: #E8F0FE;\n",
              "      border: none;\n",
              "      border-radius: 50%;\n",
              "      cursor: pointer;\n",
              "      display: none;\n",
              "      fill: #1967D2;\n",
              "      height: 32px;\n",
              "      padding: 0 0 0 0;\n",
              "      width: 32px;\n",
              "    }\n",
              "\n",
              "    .colab-df-convert:hover {\n",
              "      background-color: #E2EBFA;\n",
              "      box-shadow: 0px 1px 2px rgba(60, 64, 67, 0.3), 0px 1px 3px 1px rgba(60, 64, 67, 0.15);\n",
              "      fill: #174EA6;\n",
              "    }\n",
              "\n",
              "    [theme=dark] .colab-df-convert {\n",
              "      background-color: #3B4455;\n",
              "      fill: #D2E3FC;\n",
              "    }\n",
              "\n",
              "    [theme=dark] .colab-df-convert:hover {\n",
              "      background-color: #434B5C;\n",
              "      box-shadow: 0px 1px 3px 1px rgba(0, 0, 0, 0.15);\n",
              "      filter: drop-shadow(0px 1px 2px rgba(0, 0, 0, 0.3));\n",
              "      fill: #FFFFFF;\n",
              "    }\n",
              "  </style>\n",
              "\n",
              "      <script>\n",
              "        const buttonEl =\n",
              "          document.querySelector('#df-bf14a84c-1021-4978-bbbf-02e67f63df72 button.colab-df-convert');\n",
              "        buttonEl.style.display =\n",
              "          google.colab.kernel.accessAllowed ? 'block' : 'none';\n",
              "\n",
              "        async function convertToInteractive(key) {\n",
              "          const element = document.querySelector('#df-bf14a84c-1021-4978-bbbf-02e67f63df72');\n",
              "          const dataTable =\n",
              "            await google.colab.kernel.invokeFunction('convertToInteractive',\n",
              "                                                     [key], {});\n",
              "          if (!dataTable) return;\n",
              "\n",
              "          const docLinkHtml = 'Like what you see? Visit the ' +\n",
              "            '<a target=\"_blank\" href=https://colab.research.google.com/notebooks/data_table.ipynb>data table notebook</a>'\n",
              "            + ' to learn more about interactive tables.';\n",
              "          element.innerHTML = '';\n",
              "          dataTable['output_type'] = 'display_data';\n",
              "          await google.colab.output.renderOutput(dataTable, element);\n",
              "          const docLink = document.createElement('div');\n",
              "          docLink.innerHTML = docLinkHtml;\n",
              "          element.appendChild(docLink);\n",
              "        }\n",
              "      </script>\n",
              "    </div>\n",
              "  </div>\n",
              "  "
            ]
          },
          "metadata": {},
          "execution_count": 118
        }
      ]
    }
  ]
}